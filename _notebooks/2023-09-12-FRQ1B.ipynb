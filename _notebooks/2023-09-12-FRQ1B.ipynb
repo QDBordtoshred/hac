{
 "cells": [
  {
   "cell_type": "markdown",
   "metadata": {},
   "source": [
    "---\n",
    "toc: true\n",
    "comments: true\n",
    "layout: post\n",
    "title: FRQ 1b\n",
    "description: Solving an FRQ\n",
    "courses: { compsci: {week: 4} }\n",
    "type: tangibles\n",
    "---"
   ]
  },
  {
   "cell_type": "code",
   "execution_count": 12,
   "metadata": {
    "vscode": {
     "languageId": "java"
    }
   },
   "outputs": [],
   "source": [
    "public class WordMatch {\n",
    "    private String secret;\n",
    "    public WordMatch(String word) {\n",
    "        secret = word;\n",
    "    }\n",
    "    public int scoreGuess(String guess) {\n",
    "        return guess.length();\n",
    "    }\n",
    "    public String findBetterGuess(WordMatch game, String guess1, String guess2) {\n",
    "        String betterGuess = \"\";\n",
    "        int score1 = game.scoreGuess(guess1);\n",
    "        int score2 = game.scoreGuess(guess2);\n",
    "        if (score1>score2) {\n",
    "            betterGuess = guess1;\n",
    "        }\n",
    "        else if (score2>score1) {\n",
    "            betterGuess = guess2;\n",
    "        }\n",
    "        else if (score1==score2) {\n",
    "            for (int i=0; i<guess1.length(); i++) {\n",
    "                char char1 = guess1.charAt(i);\n",
    "                char char2 = guess2.charAt(i);\n",
    "                if (char1==char2) {\n",
    "                    continue;\n",
    "                }\n",
    "                else if (char1>char2) {\n",
    "                    betterGuess = guess1;\n",
    "                    break;\n",
    "                }\n",
    "                else if (char1<char2) {\n",
    "                    betterGuess = guess2;\n",
    "                    break;\n",
    "                }\n",
    "            }\n",
    "        return betterGuess;\n",
    "    }\n",
    "}"
   ]
  },
  {
   "cell_type": "markdown",
   "metadata": {},
   "source": []
  },
  {
   "cell_type": "code",
   "execution_count": null,
   "metadata": {
    "vscode": {
     "languageId": "java"
    }
   },
   "outputs": [],
   "source": []
  }
 ],
 "metadata": {
  "kernelspec": {
   "display_name": "Java",
   "language": "java",
   "name": "java"
  },
  "language_info": {
   "codemirror_mode": "java",
   "file_extension": ".jshell",
   "mimetype": "text/x-java-source",
   "name": "Java",
   "pygments_lexer": "java",
   "version": "11.0.20+8-post-Ubuntu-1ubuntu122.04"
  }
 },
 "nbformat": 4,
 "nbformat_minor": 2
}
