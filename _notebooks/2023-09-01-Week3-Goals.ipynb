{
 "cells": [
  {
   "cell_type": "markdown",
   "metadata": {},
   "source": [
    "---\n",
    "toc: true\n",
    "comments: true\n",
    "layout: post\n",
    "title: Week 3 Goals\n",
    "description: My goals for week 3\n",
    "courses: { compsci: {week: 3} }\n",
    "type: plans\n",
    "---"
   ]
  },
  {
   "cell_type": "markdown",
   "metadata": {},
   "source": [
    "## Goals\n",
    "* Organize Lab Notebook\n",
    "* Work on ITunes project with Colin"
   ]
  },
  {
   "cell_type": "markdown",
   "metadata": {},
   "source": [
    "## Project Plan\n",
    "1. Gather search and genre matching API links from iTunes\n",
    "2. Build a basic frontend and empty div to fill with jQuery build objects\n",
    "3. Call search api based on user input in a search bar\n",
    "4. Take search results and use jQuery to build them into viewable search results\n",
    "5. Detect which jQuery song box is clicked and call the genre api to find similar songs\n",
    "6. Build a list of similar songs to show the user"
   ]
  }
 ],
 "metadata": {
  "language_info": {
   "name": "python"
  },
  "orig_nbformat": 4
 },
 "nbformat": 4,
 "nbformat_minor": 2
}
