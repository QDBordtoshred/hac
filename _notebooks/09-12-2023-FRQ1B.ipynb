{
 "cells": [
  {
   "cell_type": "code",
   "execution_count": null,
   "metadata": {
    "vscode": {
     "languageId": "java"
    }
   },
   "outputs": [],
   "source": [
    "public class WordMatch {\n",
    "    private String secret;\n",
    "    public WordMatch(String word) {\n",
    "        return void\n",
    "    }\n",
    "    public int scoreGuess(String guess) {\n",
    "        return void\n",
    "    }\n",
    "    public String findBetterGuess(String guess1, String guess2) {\n",
    "        int score1 = game.scoreGuess(guess1);\n",
    "        int score2 = game.scoreGuess(guess2);\n",
    "        if (score1>score2) {\n",
    "            return score1\n",
    "        }\n",
    "        else if (score2>score1) {\n",
    "            return score2\n",
    "        }\n",
    "        else if (score1==score2) {\n",
    "            \n",
    "        }\n",
    "    }\n",
    "}"
   ]
  }
 ],
 "metadata": {
  "language_info": {
   "name": "python"
  },
  "orig_nbformat": 4
 },
 "nbformat": 4,
 "nbformat_minor": 2
}
