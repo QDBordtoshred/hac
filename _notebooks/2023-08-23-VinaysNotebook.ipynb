{
 "cells": [
  {
   "cell_type": "markdown",
   "metadata": {},
   "source": [
    "---\n",
    "toc: true\n",
    "comments: true\n",
    "layout: post\n",
    "title: Vinay's Notebook \n",
    "description: Vinay's Notebook \n",
    "courses: { csp: {week: 1} }\n",
    "type: hacks\n",
    "---"
   ]
  },
  {
   "cell_type": "markdown",
   "metadata": {},
   "source": [
    "## Week 0\n",
    "![A beautiful picture of me!](/Me.jpg \"Me\")"
   ]
  },
  {
   "cell_type": "markdown",
   "metadata": {},
   "source": [
    "## Week 1\n",
    "Goals:\n",
    "* download tools\n",
    "* get github pages working\n",
    "\n",
    "Tangibles:\n",
    "[My blog](https://vineraj.github.io/CSAblog/)"
   ]
  }
 ],
 "metadata": {
  "language_info": {
   "name": "python"
  },
  "orig_nbformat": 4
 },
 "nbformat": 4,
 "nbformat_minor": 2
}
