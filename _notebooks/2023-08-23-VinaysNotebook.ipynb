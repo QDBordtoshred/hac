{
 "cells": [
  {
   "cell_type": "markdown",
   "metadata": {},
   "source": [
    "---\n",
    "toc: true\n",
    "comments: true\n",
    "layout: post\n",
    "title: Vinay's Notebook \n",
    "description: My notebook for CSA. A place to put goals, any tangibles, and maybe even more. \n",
    "courses: { csp: {week: 1} }\n",
    "type: hacks\n",
    "---"
   ]
  },
  {
   "cell_type": "markdown",
   "metadata": {},
   "source": [
    "## Week 0\n",
    "Goals:\n",
    "* set up tools\n",
    "\n",
    "Tangibles:\n",
    "* Freeform drawing:\n",
    "![A beautiful picture of me!](/CSAblog/Me.jpg \"Me\")"
   ]
  },
  {
   "cell_type": "markdown",
   "metadata": {},
   "source": [
    "## Week 1\n",
    "Goals:\n",
    "* download tools\n",
    "* get github pages working\n",
    "* Get local hosting ready\n",
    "\n",
    "Tangibles:\n",
    "[My blog](https://vineraj.github.io/CSAblog/)"
   ]
  },
  {
   "cell_type": "markdown",
   "metadata": {},
   "source": [
    "## Week 2\n",
    "Goals:\n",
    "* Get java working\n",
    "* Learn about java\n",
    "\n",
    "Terms:\n",
    "* TBD\n",
    "\n",
    "Tangibles:\n",
    "* TBD"
   ]
  },
  {
   "cell_type": "code",
   "execution_count": null,
   "metadata": {
    "vscode": {
     "languageId": "java"
    }
   },
   "outputs": [],
   "source": [
    "System.out.println(\"hello world\")\n"
   ]
  },
  {
   "cell_type": "code",
   "execution_count": null,
   "metadata": {
    "vscode": {
     "languageId": "java"
    }
   },
   "outputs": [
    {
     "name": "stdout",
     "output_type": "stream",
     "text": [
      "4950\n"
     ]
    }
   ],
   "source": [
    "int sum = 0;\n",
    "for (int i=0; i<100; i++) {\n",
    "    sum = sum+i;\n",
    "}\n",
    "System.out.println(sum)"
   ]
  },
  {
   "cell_type": "code",
   "execution_count": 28,
   "metadata": {
    "vscode": {
     "languageId": "java"
    }
   },
   "outputs": [
    {
     "ename": "UnresolvedReferenceException",
     "evalue": "Attempt to use definition snippet with unresolved references in Snippet:ClassKey(SumObject)#19-public class SumObject {\n    private int sum;\n    public SumObject() {\n        sum = 0;\n    }\n    public int getSum() {\n        return this.sum;\n    }\n    public int setSum(int add, int s) {\n        this.sum = add+s;\n        return this.sum;\n    }\n    public static void main(String[] args) {\n        SumObject summer = new SumObject();\n        for (int i=0; i<100; i++) {\n            int s = summer.getSum();\n            s = summer.setSum(i+s);\n        }\n        System.out.println(s);\n    }\n}",
     "output_type": "error",
     "traceback": [
      "\u001b[1m\u001b[30m|   \u001b[1m\u001b[30mpublic class SumObject {\u001b[0m",
      "\u001b[1m\u001b[30m|   \u001b[1m\u001b[30m    private int sum;\u001b[0m",
      "\u001b[1m\u001b[30m|   \u001b[1m\u001b[30m    public SumObject() {\u001b[0m",
      "\u001b[1m\u001b[30m|   \u001b[1m\u001b[30m        sum = 0;\u001b[0m",
      "\u001b[1m\u001b[30m|   \u001b[1m\u001b[30m    }\u001b[0m",
      "\u001b[1m\u001b[30m|   \u001b[1m\u001b[30m    public int getSum() {\u001b[0m",
      "\u001b[1m\u001b[30m|   \u001b[1m\u001b[30m        return this.sum;\u001b[0m",
      "\u001b[1m\u001b[30m|   \u001b[1m\u001b[30m    }\u001b[0m",
      "\u001b[1m\u001b[30m|   \u001b[1m\u001b[30m    public int setSum(int add, int s) {\u001b[0m",
      "\u001b[1m\u001b[30m|   \u001b[1m\u001b[30m        this.sum = add+s;\u001b[0m",
      "\u001b[1m\u001b[30m|   \u001b[1m\u001b[30m        return this.sum;\u001b[0m",
      "\u001b[1m\u001b[30m|   \u001b[1m\u001b[30m    }\u001b[0m",
      "\u001b[1m\u001b[30m|   \u001b[1m\u001b[30m    public static void main(String[] args) {\u001b[0m",
      "\u001b[1m\u001b[30m|   \u001b[1m\u001b[30m        SumObject summer = new SumObject();\u001b[0m",
      "\u001b[1m\u001b[30m|   \u001b[1m\u001b[30m        for (int i=0; i<100; i++) {\u001b[0m",
      "\u001b[1m\u001b[30m|   \u001b[1m\u001b[30m            int s = summer.getSum();\u001b[0m",
      "\u001b[1m\u001b[30m|   \u001b[1m\u001b[30m            s = summer.setSum(i+s);\u001b[0m",
      "\u001b[1m\u001b[30m|   \u001b[1m\u001b[30m        }\u001b[0m",
      "\u001b[1m\u001b[30m|   \u001b[1m\u001b[30m        System.out.println(s);\u001b[0m",
      "\u001b[1m\u001b[30m|   \u001b[1m\u001b[30m    }\u001b[0m",
      "\u001b[1m\u001b[30m|   \u001b[1m\u001b[30m}\u001b[0m",
      "\u001b[1m\u001b[31mUnresolved dependencies:\u001b[0m",
      "\u001b[1m\u001b[31m   - variable s\u001b[0m"
     ]
    }
   ],
   "source": [
    "public class SumObject {\n",
    "    private int sum;\n",
    "    public SumObject() {\n",
    "        sum = 0;\n",
    "    }\n",
    "    public int getSum() {\n",
    "        return this.sum;\n",
    "    }\n",
    "    public int setSum(int add, int s) {\n",
    "        this.sum = add+s;\n",
    "        return this.sum;\n",
    "    }\n",
    "    public static void main(String[] args) {\n",
    "        SumObject summer = new SumObject();\n",
    "        for (int i=0; i<100; i++) {\n",
    "            int s = summer.getSum();\n",
    "            s = summer.setSum(i+s);\n",
    "        }\n",
    "        System.out.println(s);\n",
    "    }\n",
    "}\n",
    "SumObject.main(null)"
   ]
  },
  {
   "cell_type": "code",
   "execution_count": null,
   "metadata": {
    "vscode": {
     "languageId": "java"
    }
   },
   "outputs": [],
   "source": []
  }
 ],
 "metadata": {
  "kernelspec": {
   "display_name": "Java",
   "language": "java",
   "name": "java"
  },
  "language_info": {
   "codemirror_mode": "java",
   "file_extension": ".jshell",
   "mimetype": "text/x-java-source",
   "name": "Java",
   "pygments_lexer": "java",
   "version": "11.0.20+8-post-Ubuntu-1ubuntu122.04"
  }
 },
 "nbformat": 4,
 "nbformat_minor": 2
}
