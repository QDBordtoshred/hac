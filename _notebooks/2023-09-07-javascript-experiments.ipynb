{
 "cells": [
  {
   "cell_type": "markdown",
   "metadata": {},
   "source": [
    "---\n",
    "toc: true\n",
    "comments: true\n",
    "layout: post\n",
    "title: JavaScript Experiments\n",
    "description: Learning javascript output\n",
    "courses: { compsci: {week: 4} }\n",
    "type: tangibles\n",
    "---"
   ]
  },
  {
   "cell_type": "code",
   "execution_count": 3,
   "metadata": {},
   "outputs": [
    {
     "data": {
      "text/html": [
       "<table></table>\n"
      ],
      "text/plain": [
       "<IPython.core.display.HTML object>"
      ]
     },
     "metadata": {},
     "output_type": "display_data"
    }
   ],
   "source": [
    "%%html\n",
    "<table></table>"
   ]
  },
  {
   "cell_type": "code",
   "execution_count": 6,
   "metadata": {
    "vscode": {
     "languageId": "javascript"
    }
   },
   "outputs": [
    {
     "data": {
      "application/javascript": [
       "let people = [\n",
       "    { name: \"Vinay\", age: \"17\", grade: \"12\" },\n",
       "];\n",
       "\n",
       "function generateTable(table, data) {\n",
       "    let thead = table.createTHead();\n",
       "    let row = thead.insertRow();\n",
       "    for (let key of data) {\n",
       "        let th = document.createElement(\"th\");\n",
       "        let text = document.createTextNode(key);\n",
       "        th.appendChild(text);\n",
       "        row.appendChild(th);\n",
       "    }\n",
       "    for (let element of data) {\n",
       "    let row = table.insertRow();\n",
       "    for (key in element) {\n",
       "      let cell = row.insertCell();\n",
       "      let text = document.createTextNode(element[key]);\n",
       "      cell.appendChild(text);\n",
       "    }\n",
       "  }\n",
       "}\n",
       "\n",
       "let table = document.querySelector(\"table\");\n",
       "let data = Object.keys(people[0]);\n",
       "generateTable(table, data);\n"
      ],
      "text/plain": [
       "<IPython.core.display.Javascript object>"
      ]
     },
     "metadata": {},
     "output_type": "display_data"
    }
   ],
   "source": [
    "%%js\n",
    "let people = [\n",
    "    { name: \"Vinay\", age: \"17\", grade: \"12\" },\n",
    "];\n",
    "\n",
    "function generateTable(table, data) {\n",
    "    let thead = table.createTHead();\n",
    "    let row = thead.insertRow();\n",
    "    for (let key of data) {\n",
    "        let th = document.createElement(\"th\");\n",
    "        let text = document.createTextNode(key);\n",
    "        th.appendChild(text);\n",
    "        row.appendChild(th);\n",
    "    }\n",
    "    for (let element of data) {\n",
    "    let row = table.insertRow();\n",
    "    for (key in element) {\n",
    "      let cell = row.insertCell();\n",
    "      let text = document.createTextNode(element[key]);\n",
    "      cell.appendChild(text);\n",
    "    }\n",
    "  }\n",
    "}\n",
    "\n",
    "let table = document.querySelector(\"table\");\n",
    "let data = Object.keys(people[0]);\n",
    "generateTable(table, data);"
   ]
  },
  {
   "cell_type": "code",
   "execution_count": null,
   "metadata": {},
   "outputs": [],
   "source": []
  },
  {
   "cell_type": "code",
   "execution_count": null,
   "metadata": {},
   "outputs": [],
   "source": []
  }
 ],
 "metadata": {
  "kernelspec": {
   "display_name": "Python 3 (ipykernel)",
   "language": "python",
   "name": "python3"
  },
  "language_info": {
   "codemirror_mode": {
    "name": "ipython",
    "version": 3
   },
   "file_extension": ".py",
   "mimetype": "text/x-python",
   "name": "python",
   "nbconvert_exporter": "python",
   "pygments_lexer": "ipython3",
   "version": "3.10.9"
  }
 },
 "nbformat": 4,
 "nbformat_minor": 2
}
