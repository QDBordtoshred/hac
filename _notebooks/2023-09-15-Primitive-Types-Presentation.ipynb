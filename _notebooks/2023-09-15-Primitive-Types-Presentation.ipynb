{
 "cells": [
  {
   "cell_type": "markdown",
   "metadata": {},
   "source": [
    "---\n",
    "toc: true\n",
    "comments: true\n",
    "layout: post\n",
    "title: Primitive Types\n",
    "description: Teaching Primitve Types\n",
    "courses: { compsci: {week: 5} }\n",
    "type: tangibles\n",
    "---"
   ]
  },
  {
   "cell_type": "code",
   "execution_count": null,
   "metadata": {
    "vscode": {
     "languageId": "java"
    }
   },
   "outputs": [],
   "source": [
    "//Primitive Data Types\n",
    "public class PrimitiveDataTypes {\n",
    "    int integer = 0;\n",
    "    boolean boolean = true;\n",
    "    char character = 'a';\n",
    "    double double = 3.2;\n",
    "}"
   ]
  },
  {
   "cell_type": "code",
   "execution_count": null,
   "metadata": {
    "vscode": {
     "languageId": "java"
    }
   },
   "outputs": [],
   "source": [
    "//Wrapper Classes\n",
    "public class Wrappers {\n",
    "    Integer age = 17;\n",
    "    int age = Integer.parseInt(\"17\");\n",
    "    String gpaString = \"3.9\"\n",
    "    double gpaDouble = Double.parseDouble(gpaString);\n",
    "}"
   ]
  },
  {
   "cell_type": "code",
   "execution_count": null,
   "metadata": {
    "vscode": {
     "languageId": "java"
    }
   },
   "outputs": [],
   "source": [
    "//Enums\n",
    "public class Enums {\n",
    "    enum Unit {\n",
    "        PRIMITVE_DATA_TYPES,\n",
    "        CLASSES,\n",
    "        BOOLEAN,\n",
    "        ITERATION,\n",
    "        WRITING_CLASSES,\n",
    "        ARRAY,\n",
    "        ARRAY_lIST,\n",
    "        2D_ARRAY,\n",
    "        INHERITANCE,\n",
    "        RECURSION;\n",
    "    }\n",
    "    Unit u3 = Unit.BOOLEAN;\n",
    "    system.out.println(u3)\n",
    "    \n",
    "}"
   ]
  }
 ],
 "metadata": {
  "language_info": {
   "name": "python"
  },
  "orig_nbformat": 4
 },
 "nbformat": 4,
 "nbformat_minor": 2
}
